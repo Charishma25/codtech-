
import pandas as pd
import numpy as np
import seaborn as sns
import matplotlib.pyplot as plt
from sklearn.model_selection import train_test_split
from sklearn.linear_model import LogisticRegression
from sklearn.metrics import accuracy_score, confusion_matrix, classification_report

# Load dataset
data = sns.load_dataset('titanic')
data = data.drop(['deck', 'embark_town', 'alive', 'class', 'who', 'adult_male'], axis=1)

# Data cleaning
print("\nMissing values before cleaning:")
print(data.isnull().sum())

data['age'].fillna(data['age'].median(), inplace=True)
data['embarked'].fillna(data['embarked'].mode()[0], inplace=True)

data.dropna(subset=['embarked'], inplace=True)

print("\nMissing values after cleaning:")
print(data.isnull().sum())

# Encode categorical variables
data = pd.get_dummies(data, columns=['sex', 'embarked'], drop_first=True)

# Features and target
X = data.drop('survived', axis=1)
y = data['survived']

# Train-test split
X_train, X_test, y_train, y_test = train_test_split(X, y, test_size=0.2, random_state=42)

# Model training
model = LogisticRegression(max_iter=200)
model.fit(X_train, y_train)

# Evaluation
y_pred = model.predict(X_test)

acc = accuracy_score(y_test, y_pred)
cm = confusion_matrix(y_test, y_pred)
cr = classification_report(y_test, y_pred)

print(f"\nAccuracy: {acc:.2f}")
print("\nConfusion Matrix:")
print(cm)
print("\nClassification Report:")
print(cr)

# Plot confusion matrix
sns.heatmap(cm, annot=True, fmt='d', cmap='Blues')
plt.title('Confusion Matrix')
plt.xlabel('Predicted')
plt.ylabel('Actual')
plt.show()
